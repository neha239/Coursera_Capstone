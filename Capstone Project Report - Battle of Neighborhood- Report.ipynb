{
    "cells": [
        {
            "cell_type": "markdown",
            "metadata": {
                "collapsed": true
            },
            "source": "# The Battle of Neighborhoods - Toronto"
        },
        {
            "cell_type": "markdown",
            "metadata": {},
            "source": "## 1. Introduction/Business Problem"
        },
        {
            "cell_type": "markdown",
            "metadata": {},
            "source": "This project discusses about the Neighborhoods in **Toronto** and what will be a suitable place to start a new business such as **Restaurants, Hotels, etc.**\nThe **Foursquare API** is used to access the venues in the neighborhoods. Then they are clustered based on their venues using Data Science Techniques. Here the k-means clustering algorithm is used to achieve the task.\n\nThis project is aimed towards Entrepreneurs or Business owners who want to start a new Restaurant or Hotel or grow their current business. The analysis will provide vital information that can be used by the target audience.\n"
        },
        {
            "cell_type": "markdown",
            "metadata": {},
            "source": "## 2. Data"
        },
        {
            "cell_type": "markdown",
            "metadata": {},
            "source": "The data required for the neighbourhoods in Toronto will be collected and prepared from Wikipedia using different techniques. The Geographical location of the neighbourhoods will be used from the Geocoder package (the data is present in csv file and it will be used with the respective Postal Codes). The Venue data will be collected from Foursquare which will be used to find the suitable palce to start the business.\nThe links used are :\n1. <a href=\"https://en.wikipedia.org/wiki/List_of_postal_codes_of_Canada:_M\" target=\"_blank\">https://en.wikipedia.org/wiki/List_of_postal_codes_of_Canada:_M</a>.\n2. <a href=\"https://cocl.us/Geospatial_data\" target=\"_blank\">https://cocl.us/Geospatial_data</a>\n3. <a href=\"https://foursquare.com/\" target=\"_blank\">https://foursquare.com/</a>"
        },
        {
            "cell_type": "code",
            "execution_count": null,
            "metadata": {},
            "outputs": [],
            "source": ""
        }
    ],
    "metadata": {
        "kernelspec": {
            "display_name": "Python 3.7",
            "language": "python",
            "name": "python3"
        },
        "language_info": {
            "codemirror_mode": {
                "name": "ipython",
                "version": 3
            },
            "file_extension": ".py",
            "mimetype": "text/x-python",
            "name": "python",
            "nbconvert_exporter": "python",
            "pygments_lexer": "ipython3",
            "version": "3.7.10"
        }
    },
    "nbformat": 4,
    "nbformat_minor": 1
}